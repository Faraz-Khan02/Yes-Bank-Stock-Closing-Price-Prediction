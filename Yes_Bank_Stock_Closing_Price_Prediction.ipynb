{
  "nbformat": 4,
  "nbformat_minor": 0,
  "metadata": {
    "colab": {
      "private_outputs": true,
      "provenance": [],
      "collapsed_sections": [
        "H0kj-8xxnORC",
        "bKJF3rekwFvQ",
        "MSa1f5Uengrz",
        "K5QZ13OEpz2H",
        "lQ7QKXXCp7Bj",
        "448CDAPjqfQr",
        "KSlN3yHqYklG",
        "t6dVpIINYklI",
        "ijmpgYnKYklI",
        "-JiQyfWJYklI",
        "EM7whBJCYoAo",
        "fge-S5ZAYoAp",
        "85gYPyotYoAp",
        "RoGjAbkUYoAp",
        "4Of9eVA-YrdM",
        "iky9q4vBYrdO",
        "F6T5p64dYrdO",
        "y-Ehk30pYrdP",
        "bamQiAODYuh1",
        "QHF8YVU7Yuh3",
        "GwzvFGzlYuh3",
        "qYpmQ266Yuh3",
        "OH-pJp9IphqM",
        "bbFf2-_FphqN",
        "_ouA3fa0phqN",
        "Seke61FWphqN",
        "PIIx-8_IphqN",
        "t27r6nlMphqO",
        "r2jJGEOYphqO",
        "b0JNsNcRphqO",
        "BZR9WyysphqO",
        "jj7wYXLtphqO",
        "eZrbJ2SmphqO",
        "rFu4xreNphqO",
        "YJ55k-q6phqO",
        "gCFgpxoyphqP",
        "OVtJsKN_phqQ",
        "lssrdh5qphqQ",
        "U2RJ9gkRphqQ",
        "1M8mcRywphqQ",
        "tgIPom80phqQ",
        "JMzcOPDDphqR",
        "x-EpHcCOp1ci",
        "X_VqEhTip1ck",
        "8zGJKyg5p1ck",
        "PVzmfK_Ep1ck",
        "n3dbpmDWp1ck",
        "ylSl6qgtp1ck",
        "ZWILFDl5p1ck",
        "M7G43BXep1ck",
        "Ag9LCva-p1cl",
        "E6MkPsBcp1cl",
        "2cELzS2fp1cl",
        "3MPXvC8up1cl",
        "NC_X3p0fY2L0",
        "UV0SzAkaZNRQ",
        "YPEH6qLeZNRQ",
        "q29F0dvdveiT",
        "EXh0U9oCveiU",
        "22aHeOlLveiV",
        "g-ATYxFrGrvw",
        "Yfr_Vlr8HBkt",
        "8yEUt7NnHlrM",
        "tEA2Xm5dHt1r",
        "I79__PHVH19G",
        "Ou-I18pAyIpj",
        "fF3858GYyt-u",
        "4_0_7-oCpUZd",
        "hwyV_J3ipUZe",
        "3yB-zSqbpUZe",
        "dEUvejAfpUZe",
        "Fd15vwWVpUZf",
        "bn_IUdTipZyH",
        "49K5P_iCpZyH",
        "Nff-vKELpZyI",
        "kLW572S8pZyI",
        "dWbDXHzopZyI",
        "yLjJCtPM0KBk",
        "xiyOF9F70UgQ",
        "7wuGOrhz0itI",
        "id1riN9m0vUs",
        "578E2V7j08f6",
        "89xtkJwZ18nB",
        "67NQN5KX2AMe",
        "Iwf50b-R2tYG",
        "GMQiZwjn3iu7",
        "WVIkgGqN3qsr",
        "XkPnILGE3zoT",
        "Hlsf0x5436Go",
        "mT9DMSJo4nBL",
        "c49ITxTc407N",
        "OeJFEK0N496M",
        "9ExmJH0g5HBk",
        "cJNqERVU536h",
        "k5UmGsbsOxih",
        "T0VqWOYE6DLQ",
        "qBMux9mC6MCf",
        "-oLEiFgy-5Pf",
        "C74aWNz2AliB",
        "2DejudWSA-a0",
        "pEMng2IbBLp7",
        "rAdphbQ9Bhjc",
        "TNVZ9zx19K6k",
        "nqoHp30x9hH9",
        "rMDnDkt2B6du",
        "yiiVWRdJDDil",
        "1UUpS68QDMuG",
        "kexQrXU-DjzY",
        "T5CmagL3EC8N",
        "BhH2vgX9EjGr",
        "qjKvONjwE8ra",
        "P1XJ9OREExlT",
        "VFOzZv6IFROw",
        "TIqpNgepFxVj",
        "VfCC591jGiD4",
        "OB4l2ZhMeS1U",
        "ArJBuiUVfxKd",
        "4qY1EAkEfxKe",
        "PiV4Ypx8fxKe",
        "TfvqoZmBfxKf",
        "dJ2tPlVmpsJ0",
        "JWYfwnehpsJ1",
        "-jK_YjpMpsJ2",
        "HAih1iBOpsJ2",
        "zVGeBEFhpsJ2",
        "bmKjuQ-FpsJ3",
        "Fze-IPXLpx6K",
        "7AN1z2sKpx6M",
        "9PIHJqyupx6M",
        "_-qAgymDpx6N",
        "Z-hykwinpx6N",
        "h_CCil-SKHpo",
        "cBFFvTBNJzUa",
        "HvGl1hHyA_VK",
        "EyNgTHvd2WFk",
        "KH5McJBi2d8v",
        "iW_Lq9qf2h6X",
        "-Kee-DAl2viO",
        "gCX9965dhzqZ",
        "gIfDvo9L0UH2"
      ],
      "include_colab_link": true
    },
    "kernelspec": {
      "name": "python3",
      "display_name": "Python 3"
    },
    "language_info": {
      "name": "python"
    }
  },
  "cells": [
    {
      "cell_type": "markdown",
      "metadata": {
        "id": "view-in-github",
        "colab_type": "text"
      },
      "source": [
        "<a href=\"https://colab.research.google.com/github/Faraz-Khan02/Yes-Bank-Stock-Closing-Price-Prediction/blob/main/Yes_Bank_Stock_Closing_Price_Prediction.ipynb\" target=\"_parent\"><img src=\"https://colab.research.google.com/assets/colab-badge.svg\" alt=\"Open In Colab\"/></a>"
      ]
    },
    {
      "cell_type": "markdown",
      "source": [
        "# **Project Name**    - **Yes Bank Stock Closing Price Prediction**\n",
        "\n"
      ],
      "metadata": {
        "id": "vncDsAP0Gaoa"
      }
    },
    {
      "cell_type": "markdown",
      "source": [
        "##### **Project Type**    - Regression\n",
        "##### **Contribution**    - Individual\n",
        "##### **Name -** Faraz Faisal Khan\n"
      ],
      "metadata": {
        "id": "beRrZCGUAJYm"
      }
    },
    {
      "cell_type": "markdown",
      "source": [
        "# **Project Summary -**"
      ],
      "metadata": {
        "id": "FJNUwmbgGyua"
      }
    },
    {
      "cell_type": "markdown",
      "source": [
        "Write the summary here within 500-600 words."
      ],
      "metadata": {
        "id": "F6v_1wHtG2nS"
      }
    },
    {
      "cell_type": "markdown",
      "source": [
        "# **GitHub Link -**"
      ],
      "metadata": {
        "id": "w6K7xa23Elo4"
      }
    },
    {
      "cell_type": "markdown",
      "source": [
        "Provide your GitHub Link here."
      ],
      "metadata": {
        "id": "h1o69JH3Eqqn"
      }
    },
    {
      "cell_type": "markdown",
      "source": [
        "# **Problem Statement**\n"
      ],
      "metadata": {
        "id": "yQaldy8SH6Dl"
      }
    },
    {
      "cell_type": "markdown",
      "source": [
        "**Yes Bank is a well-known bank in the Indian financial domain. Since 2018, it has been in the news because of the fraud case involving Rana Kapoor. Owing to this fact, it was interesting to see how that impacted the stock prices of the company and whether Time series models or any other predictive models can do justice to such situations. This dataset has monthly stock prices of the bank since its inception and includes closing, starting, highest, and lowest stock prices of every month. The main objective is to predict the stock’s closing price of the month.**"
      ],
      "metadata": {
        "id": "DpeJGUA3kjGy"
      }
    },
    {
      "cell_type": "markdown",
      "source": [
        "# ***Let's Begin !***"
      ],
      "metadata": {
        "id": "O_i_v8NEhb9l"
      }
    },
    {
      "cell_type": "markdown",
      "source": [
        "### Importing Libraries"
      ],
      "metadata": {
        "id": "Y3lxredqlCYt"
      }
    },
    {
      "cell_type": "code",
      "source": [
        "# Importing Libraries\n",
        "import numpy as np\n",
        "import pandas as pd\n",
        "from numpy import math\n",
        "\n",
        "from sklearn.preprocessing import MinMaxScaler\n",
        "from sklearn.model_selection import train_test_split\n",
        "from sklearn.linear_model import LinearRegression\n",
        "from sklearn.linear_model import Lasso\n",
        "from sklearn.linear_model import Ridge\n",
        "from sklearn.model_selection import GridSearchCV\n",
        "from sklearn.metrics import r2_score\n",
        "from sklearn.metrics import mean_squared_error\n",
        "import seaborn as sns\n",
        "import matplotlib.pyplot as plt\n",
        "from datetime import datetime\n",
        "import warnings\n",
        "warnings.filterwarnings('ignore')"
      ],
      "metadata": {
        "id": "M8Vqi-pPk-HR"
      },
      "execution_count": null,
      "outputs": []
    },
    {
      "cell_type": "markdown",
      "source": [
        "### Dataset Loading"
      ],
      "metadata": {
        "id": "3RnN4peoiCZX"
      }
    },
    {
      "cell_type": "code",
      "source": [
        "# Mounting Drive\n",
        "from google.colab import drive\n",
        "drive.mount('/content/drive')"
      ],
      "metadata": {
        "id": "4CkvbW_SlZ_R"
      },
      "execution_count": null,
      "outputs": []
    },
    {
      "cell_type": "code",
      "source": [
        "# Loading Dataset\n",
        "df = pd.read_csv(\"/content/drive/MyDrive/Capstone Project-2/data_YesBank_StockPrices.csv\")"
      ],
      "metadata": {
        "id": "XyLC-bm3o7CZ"
      },
      "execution_count": null,
      "outputs": []
    },
    {
      "cell_type": "markdown",
      "source": [
        "### Dataset First View"
      ],
      "metadata": {
        "id": "x71ZqKXriCWQ"
      }
    },
    {
      "cell_type": "code",
      "source": [
        "# Dataset First Look\n",
        "df.head()"
      ],
      "metadata": {
        "id": "LWNFOSvLl09H"
      },
      "execution_count": null,
      "outputs": []
    },
    {
      "cell_type": "markdown",
      "source": [
        "### Dataset Rows & Columns count"
      ],
      "metadata": {
        "id": "7hBIi_osiCS2"
      }
    },
    {
      "cell_type": "code",
      "source": [
        "# Dataset Rows & Columns count\n",
        "df.shape"
      ],
      "metadata": {
        "id": "Kllu7SJgmLij"
      },
      "execution_count": null,
      "outputs": []
    },
    {
      "cell_type": "markdown",
      "source": [
        "Our dataset contains 185 rows and 5 columns"
      ],
      "metadata": {
        "id": "4uRheuTceP4d"
      }
    },
    {
      "cell_type": "markdown",
      "source": [
        "### Dataset Information"
      ],
      "metadata": {
        "id": "JlHwYmJAmNHm"
      }
    },
    {
      "cell_type": "code",
      "source": [
        "# Dataset Info\n",
        "df.info()"
      ],
      "metadata": {
        "id": "e9hRXRi6meOf"
      },
      "execution_count": null,
      "outputs": []
    },
    {
      "cell_type": "markdown",
      "source": [
        "Our dataset contains zero null values\n"
      ],
      "metadata": {
        "id": "vHHPF_7YgAmr"
      }
    },
    {
      "cell_type": "markdown",
      "source": [
        "Here we've the Yes Bank Stock price dataset which has the monthly stock prices. It contains the following features in it, they are:\n",
        "\n",
        "**Date**: It denotes the month & year with respect to the price of the stock.\n",
        "\n",
        "**Open**: It denotes the opening price at which a stock started trading that month.\n",
        "\n",
        "**High**: It denotes the highest price at which a stock traded during a period.\n",
        "\n",
        "**Low**: It denotes the highest price at which a stock traded during a period.\n",
        "\n",
        "**Close**: It denotes the final trading price for that month.\n"
      ],
      "metadata": {
        "id": "Wcjc_yhAhOWv"
      }
    },
    {
      "cell_type": "markdown",
      "source": [
        "#### Duplicate Values"
      ],
      "metadata": {
        "id": "35m5QtbWiB9F"
      }
    },
    {
      "cell_type": "code",
      "source": [
        "# Dataset Duplicate Value Count\n",
        "duplicate = df.duplicated()\n",
        "print(duplicate.value_counts())"
      ],
      "metadata": {
        "id": "1sLdpKYkmox0"
      },
      "execution_count": null,
      "outputs": []
    },
    {
      "cell_type": "markdown",
      "source": [
        "There is no duplicate value in our dataset."
      ],
      "metadata": {
        "id": "eJweWE8CuDG-"
      }
    },
    {
      "cell_type": "markdown",
      "source": [
        "#### Missing Values/Null Values"
      ],
      "metadata": {
        "id": "PoPl-ycgm1ru"
      }
    },
    {
      "cell_type": "code",
      "source": [
        "# Missing Values/Null Values Count\n",
        "df.isnull().sum()\n"
      ],
      "metadata": {
        "id": "GgHWkxvamxVg"
      },
      "execution_count": null,
      "outputs": []
    },
    {
      "cell_type": "markdown",
      "source": [
        "There is zero null value in our dataset."
      ],
      "metadata": {
        "id": "Llkt9vbwu6y0"
      }
    },
    {
      "cell_type": "code",
      "source": [
        "# Visualizing the missing values\n",
        "plt.figure(figsize=(10, 4))\n",
        "sns.heatmap(df.isnull(), cbar=True, yticklabels=False)\n",
        "plt.xlabel(\"Column_name\", size=12, weight=\"bold\")\n",
        "plt.title(\"Missing values\",fontweight=\"bold\",size=15)\n",
        "plt.show()\n"
      ],
      "metadata": {
        "id": "3q5wnI3om9sJ"
      },
      "execution_count": null,
      "outputs": []
    },
    {
      "cell_type": "markdown",
      "source": [
        "It shows zero missing value."
      ],
      "metadata": {
        "id": "JNd4z37TyeOm"
      }
    },
    {
      "cell_type": "markdown",
      "source": [
        "## ***Data Cleaning***"
      ],
      "metadata": {
        "id": "nA9Y7ga8ng1Z"
      }
    },
    {
      "cell_type": "code",
      "source": [
        "# Copying data to preserve orignal dataset\n",
        "new_df = df.copy()"
      ],
      "metadata": {
        "id": "j7xfkqrt5Ag5"
      },
      "execution_count": null,
      "outputs": []
    },
    {
      "cell_type": "markdown",
      "source": [
        "Here Date is not in regular format so we need to corvert it in 'YYYY-MM-DD' format."
      ],
      "metadata": {
        "id": "VjGjjziU-5Gm"
      }
    },
    {
      "cell_type": "code",
      "source": [
        "new_df['Date'] = new_df['Date'].apply(lambda x: datetime.strptime(x, \"%b-%y\"))"
      ],
      "metadata": {
        "id": "DnOaZdaE5Q5t"
      },
      "execution_count": null,
      "outputs": []
    },
    {
      "cell_type": "code",
      "source": [
        "new_df.head()"
      ],
      "metadata": {
        "id": "llbG3eNwAE17"
      },
      "execution_count": null,
      "outputs": []
    },
    {
      "cell_type": "markdown",
      "source": [
        "Here we changed our Date format. Now we are ready to do EDA on our dataset."
      ],
      "metadata": {
        "id": "4lDkaqUFANR5"
      }
    },
    {
      "cell_type": "code",
      "source": [
        "# Segregating the dataset into dependent & independent variable.\n",
        "X = new_df.drop(['Close','Date'],axis=1)       \n",
        "Y = new_df['Close']                          "
      ],
      "metadata": {
        "id": "-oETao_yTWFZ"
      },
      "execution_count": null,
      "outputs": []
    },
    {
      "cell_type": "markdown",
      "source": [
        "Here X is our Independent variable and Y is our Dependent variable."
      ],
      "metadata": {
        "id": "tJcduSD0Tg8x"
      }
    },
    {
      "cell_type": "markdown",
      "source": [
        "## ***Exploratory Data Analysis***"
      ],
      "metadata": {
        "id": "dauF4eBmngu3"
      }
    },
    {
      "cell_type": "markdown",
      "source": [
        "### **Univariate Analysis**"
      ],
      "metadata": {
        "id": "-IOL9DxXbMTX"
      }
    },
    {
      "cell_type": "markdown",
      "source": [
        "In Univariate Analysis we will analize our Dependent variable and Independent variable separately using different Displot and bar plot."
      ],
      "metadata": {
        "id": "Clg2pphyEaGk"
      }
    },
    {
      "cell_type": "code",
      "source": [
        "\n",
        "# Visualisation of closing price with respect to dates.\n",
        "plt.figure(figsize=(15,5))\n",
        "plt.xlabel('Year', fontsize=15)\n",
        "plt.ylabel('Closing Prices', fontsize=15)\n",
        "plt.plot(new_df['Date'], new_df['Close'],linewidth=2,color='red')\n",
        "plt.title('Closing Stock Prices along different Year', fontsize=20)\n",
        "plt.grid()\n",
        "plt.show()\n"
      ],
      "metadata": {
        "id": "lcU8LN3kUORw"
      },
      "execution_count": null,
      "outputs": []
    },
    {
      "cell_type": "markdown",
      "source": [
        " After 2018 onwards the closing stock prices have witnessed a great downfall due to Rana Kapoor fraud case."
      ],
      "metadata": {
        "id": "dROx35uwXqh5"
      }
    },
    {
      "cell_type": "markdown",
      "source": [
        "## *Distplot for Dependent Variable - Close*"
      ],
      "metadata": {
        "id": "6F-Xcvfycr2v"
      }
    },
    {
      "cell_type": "code",
      "source": [
        "# Dependent variable-'Close'\n",
        "plt.figure(figsize=(10,5))\n",
        "sns.distplot(df['Close'],color=\"g\")\n",
        "plt.xlabel('Closing Price',fontsize=20)\n",
        "plt.ylabel('Density',fontsize=20)\n",
        "plt.show()"
      ],
      "metadata": {
        "id": "sASOFbX-bWWs"
      },
      "execution_count": null,
      "outputs": []
    },
    {
      "cell_type": "markdown",
      "source": [
        "Here we can clearly see that distribution is right skewed so we have to do transformatiom to make it Normal using log transformation method.\n",
        "Log Transfomation is used when our data is highly skewed.\n",
        "\n"
      ],
      "metadata": {
        "id": "9CmxrmFrdtK0"
      }
    },
    {
      "cell_type": "code",
      "source": [
        "#Collecting all our numeric column in a new variable \n",
        "numeric_features=new_df.describe().columns\n",
        "numeric_features\n",
        "     "
      ],
      "metadata": {
        "id": "EsogU-VCnfqq"
      },
      "execution_count": null,
      "outputs": []
    },
    {
      "cell_type": "markdown",
      "source": [
        "## *Mean and Median of Dependent Variable - Close*"
      ],
      "metadata": {
        "id": "20--P_RspAD6"
      }
    },
    {
      "cell_type": "code",
      "source": [
        "# Plotting Mean and Median of our Dependent variable\n",
        "for col in numeric_features[-1:]:\n",
        "    fig = plt.figure(figsize=(12,6))\n",
        "    ax = fig.gca()\n",
        "    feature = new_df[col]\n",
        "    feature.hist(bins=50, ax = ax)\n",
        "    ax.axvline(feature.mean(), color='red', linestyle='dashed', linewidth=2)\n",
        "    ax.axvline(feature.median(), color='green', linestyle='dashed', linewidth=2)    \n",
        "    ax.set_title(col)\n",
        "plt.show()"
      ],
      "metadata": {
        "id": "nuOFQqAvnCEp"
      },
      "execution_count": null,
      "outputs": []
    },
    {
      "cell_type": "markdown",
      "source": [
        "Here red dashed line shows Mean of our target variable and green dashed line shows Median of our target variable.\n",
        "\n",
        "Here there is lot of difference between our Mean and Median so we have to do Lof tranformation to reduce such a variance between our central tendency."
      ],
      "metadata": {
        "id": "LmGTQI3upzY0"
      }
    },
    {
      "cell_type": "markdown",
      "source": [
        "## *Applying Log Transformation on Dependent Variable - Close*"
      ],
      "metadata": {
        "id": "8NgOU8pUlmv-"
      }
    },
    {
      "cell_type": "code",
      "source": [
        "# Applying log transformation on target variable \n",
        "plt.figure(figsize=(10,5))\n",
        "sns.distplot(np.log(df['Close']),color=\"g\")\n",
        "plt.xlabel('Closing Price',fontsize=20)\n",
        "plt.ylabel('Density',fontsize=20)\n",
        "plt.show()"
      ],
      "metadata": {
        "id": "ENkQ122qjVKt"
      },
      "execution_count": null,
      "outputs": []
    },
    {
      "cell_type": "markdown",
      "source": [
        "Now we can say that our data is transformed and it is normally distributed."
      ],
      "metadata": {
        "id": "_vQ82uUOq_4l"
      }
    },
    {
      "cell_type": "code",
      "source": [
        "\n",
        "# Applying log transformation on target variable\n",
        "for col in numeric_features[-1:]:\n",
        "    fig = plt.figure(figsize=(12,6))\n",
        "    ax = fig.gca()\n",
        "    feature = np.log(new_df[col])\n",
        "    feature.hist(bins=50, ax = ax)\n",
        "    ax.axvline(feature.mean(), color='red', linestyle='dashed', linewidth=2)\n",
        "    ax.axvline(feature.median(), color='green', linestyle='dashed', linewidth=2)    \n",
        "    ax.set_title(col)\n",
        "plt.show()"
      ],
      "metadata": {
        "id": "Obnm8G9koeLp"
      },
      "execution_count": null,
      "outputs": []
    },
    {
      "cell_type": "markdown",
      "source": [
        "After doing Log transformation the difference between Mean and Median is reduced to a great extent."
      ],
      "metadata": {
        "id": "q3VFRzVck7i1"
      }
    },
    {
      "cell_type": "markdown",
      "source": [
        "## *Distplot on Independent variable - (Open, High, Low)*"
      ],
      "metadata": {
        "id": "oZSje-L3l_qZ"
      }
    },
    {
      "cell_type": "code",
      "source": [
        "\n",
        "# Distribution of independent variable\n",
        "plt.figure(figsize=(10,5))\n",
        "sns.distplot(new_df['Open'], color='purple')\n",
        "\n",
        "plt.figure(figsize=(10,5))\n",
        "sns.distplot(new_df['High'], color='brown')\n",
        "\n",
        "plt.figure(figsize=(10,5))\n",
        "sns.distplot(new_df['Low'], color='magenta')\n",
        "\n",
        "plt.show()"
      ],
      "metadata": {
        "id": "kfMjuO9yr-RS"
      },
      "execution_count": null,
      "outputs": []
    },
    {
      "cell_type": "markdown",
      "source": [
        "Here just like our Dependent variable , all Independent variables are right skewed so, to convert it in normal distribution we need to do Log Transformation."
      ],
      "metadata": {
        "id": "f92U7kXT-Eaq"
      }
    },
    {
      "cell_type": "markdown",
      "source": [
        "## *Mean & Median of Independent Variables - (Open, High, Low)*"
      ],
      "metadata": {
        "id": "NnHaOG5c--YA"
      }
    },
    {
      "cell_type": "code",
      "source": [
        "# Ploting bar blot for each independent variables - (Open, High, Low)\n",
        "for col in numeric_features[:-1]:\n",
        "    fig = plt.figure(figsize=(12, 6))\n",
        "    ax = fig.gca()\n",
        "    feature = new_df[col]\n",
        "    feature.hist(bins=50, ax = ax)\n",
        "    ax.axvline(feature.mean(), color='red', linestyle='dashed', linewidth=2)\n",
        "    ax.axvline(feature.median(), color='green', linestyle='dashed', linewidth=2)    \n",
        "    ax.set_title(col)\n",
        "plt.show()"
      ],
      "metadata": {
        "id": "7bOoCgoB_Rxa"
      },
      "execution_count": null,
      "outputs": []
    },
    {
      "cell_type": "markdown",
      "source": [
        "Here Red dashed line denotes Mean and Green dashed line denotes Median.\n",
        "\n",
        "From above graph we can see that there is much difference in between mean and median for all independent variable. It means independent variables are not normally distributed."
      ],
      "metadata": {
        "id": "nLwQIucbAKLD"
      }
    },
    {
      "cell_type": "markdown",
      "source": [
        "## *Applying Log Transformation on Independent Variables - (Open, High, Low)*"
      ],
      "metadata": {
        "id": "RwkxyzAiAzXt"
      }
    },
    {
      "cell_type": "code",
      "source": [
        "\n",
        "# Applying log transformation independent variables.\n",
        "plt.figure(figsize=(10,5))\n",
        "sns.distplot(np.log(new_df['Open']), color='purple')\n",
        "\n",
        "plt.figure(figsize=(10,5))\n",
        "sns.distplot(np.log(df['High']), color='brown')\n",
        "\n",
        "plt.figure(figsize=(10,5))\n",
        "sns.distplot(np.log(df['Low']), color='magenta')\n",
        "\n",
        "plt.show()"
      ],
      "metadata": {
        "id": "vXKWteXsBLAm"
      },
      "execution_count": null,
      "outputs": []
    },
    {
      "cell_type": "markdown",
      "source": [
        "Here we can see after applying Log Transformation out Independent variables are Normally Distributed."
      ],
      "metadata": {
        "id": "atBcW2GNB4HQ"
      }
    },
    {
      "cell_type": "code",
      "source": [
        "# Applying log transformation on Independent Variables\n",
        "for col in numeric_features[:-1]:\n",
        "    fig = plt.figure(figsize=(12, 6))\n",
        "    ax = fig.gca()\n",
        "    feature = np.log(new_df[col])\n",
        "    feature.hist(bins=50, ax = ax)\n",
        "    ax.axvline(feature.mean(), color='red', linestyle='dashed', linewidth=2)\n",
        "    ax.axvline(feature.median(), color='green', linestyle='dashed', linewidth=2)    \n",
        "    ax.set_title(col)\n",
        "plt.show()"
      ],
      "metadata": {
        "id": "NqY3gQMzCgKx"
      },
      "execution_count": null,
      "outputs": []
    },
    {
      "cell_type": "markdown",
      "source": [
        "Here we can see after applying Log Transformation the difference between Mean & Median is almost finished."
      ],
      "metadata": {
        "id": "0csNsw9gDUfs"
      }
    },
    {
      "cell_type": "markdown",
      "source": [
        "## **Bivariate Analysis**"
      ],
      "metadata": {
        "id": "fjzatvuWFkJr"
      }
    },
    {
      "cell_type": "markdown",
      "source": [
        "In Bivariate Analysis we will see relation between Dependent and Independent Variables using scatter plot and heat map."
      ],
      "metadata": {
        "id": "IUDE0F0wFqSC"
      }
    },
    {
      "cell_type": "markdown",
      "source": [
        "## *Scatter plot for finding relation between Dependent & Independent variable*"
      ],
      "metadata": {
        "id": "20kji4f2G_7h"
      }
    },
    {
      "cell_type": "code",
      "source": [
        "#Using scatter plot\n",
        "for col in numeric_features[:-1]:\n",
        "  fig = plt.figure(figsize = (10,5))\n",
        "  ax = fig.gca()\n",
        "  features = new_df[col]\n",
        "  label = new_df['Close']\n",
        "  correlation = features.corr(label)\n",
        "  plt.scatter(x = features,y = label)\n",
        "  plt.xlabel(col)\n",
        "  plt.ylabel('Close')\n",
        "  plt.title('Close Vs  ' + col + '_ correlation:' + str(correlation))\n",
        "  z = np.polyfit(df[col],df['Close'],1)\n",
        "  y_hat = np.poly1d(z)(df[col])\n",
        "  plt.plot(df[col] , y_hat, \"r--\",lw = 2)\n",
        "plt.show()"
      ],
      "metadata": {
        "id": "JZZXVECkHz9B"
      },
      "execution_count": null,
      "outputs": []
    },
    {
      "cell_type": "markdown",
      "source": [
        "From above Scatter plot we can say all independent variables high correlation with our dependent variable.\n",
        "\n",
        "So, we cannot drop any column for modelling all the independent variables are important."
      ],
      "metadata": {
        "id": "nxRvH_4vIIie"
      }
    },
    {
      "cell_type": "markdown",
      "source": [
        "## *Heatmap for checking correlation with Independent variables*"
      ],
      "metadata": {
        "id": "EwglMTh9JTkh"
      }
    },
    {
      "cell_type": "code",
      "source": [
        "\n",
        "#Correlation heatmap\n",
        "plt.figure(figsize=(12,7))\n",
        "sns.heatmap(new_df.corr(),cmap='PiYG',annot=True)"
      ],
      "metadata": {
        "id": "IQwL15vgI5ak"
      },
      "execution_count": null,
      "outputs": []
    },
    {
      "cell_type": "markdown",
      "source": [
        "Here dependent variable shows high correlation with all independent variables."
      ],
      "metadata": {
        "id": "OXX9Ex5JJnHE"
      }
    },
    {
      "cell_type": "markdown",
      "source": [
        "## *Checking Multicollinearity*"
      ],
      "metadata": {
        "id": "iU1RTaFPCZNH"
      }
    },
    {
      "cell_type": "code",
      "source": [
        "#Calculating VIF\n",
        "from statsmodels.stats.outliers_influence import variance_inflation_factor\n",
        "def calculate_vif(X):\n",
        "\n",
        "  # calculating VIF\n",
        "  vif =pd.DataFrame()\n",
        "  vif[\"variables\"] = X.columns\n",
        "  vif[\"VIF\"] = [variance_inflation_factor(X.values, i) for i in range(X. shape[1])]\n",
        "\n",
        "  return(vif)\n",
        "\n",
        "calculate_vif(new_df[[i for i in new_df.describe().columns if i not in ['Date', 'Close']]])"
      ],
      "metadata": {
        "id": "lDyRS_GWF5Dn"
      },
      "execution_count": null,
      "outputs": []
    },
    {
      "cell_type": "markdown",
      "source": [
        "Here VIF of every independent variable is high so we cannot drop any of the columns."
      ],
      "metadata": {
        "id": "pZqgLLklHMB1"
      }
    },
    {
      "cell_type": "markdown",
      "source": [
        "# **Conclusion**"
      ],
      "metadata": {
        "id": "gCX9965dhzqZ"
      }
    },
    {
      "cell_type": "markdown",
      "source": [
        "Write the conclusion here."
      ],
      "metadata": {
        "id": "Fjb1IsQkh3yE"
      }
    },
    {
      "cell_type": "markdown",
      "source": [
        "### ***Hurrah! You have successfully completed your Machine Learning Capstone Project !!!***"
      ],
      "metadata": {
        "id": "gIfDvo9L0UH2"
      }
    }
  ]
}